{
 "cells": [
  {
   "cell_type": "code",
   "execution_count": 45,
   "metadata": {},
   "outputs": [],
   "source": [
    "#--------------- clase nodo que inicializa los valores(extraida de la carpeta del ingeniero)--------#\n",
    "class Node:\n",
    "    def __init__(self, data, son=None):\n",
    "        self.data = data\n",
    "        self.son = None\n",
    "        self.father = None\n",
    "        self.cost = None\n",
    "        self.set_son(son)\n",
    "\n",
    "    def set_son(self, son):\n",
    "        self.son = son\n",
    "        if self.son is not None:\n",
    "            for s in self.son:\n",
    "                s.father = self\n",
    "\n",
    "    def get_son(self):\n",
    "        return self.son\n",
    "\n",
    "    def get_father(self):\n",
    "        return self.father\n",
    "\n",
    "    def set_father(self, father):\n",
    "        self.father = father\n",
    "\n",
    "    def set_data(self, data):\n",
    "        self.data = data\n",
    "\n",
    "    def get_data(self):\n",
    "        return self.data\n",
    "\n",
    "    def set_cost(self, cost):\n",
    "        self.cost = cost\n",
    "\n",
    "    def get_cost(self):\n",
    "        return self.cost\n",
    "\n",
    "    def equal(self, node):\n",
    "        if self.get_data() == node.get_data():\n",
    "            return True\n",
    "        else:\n",
    "            return False\n",
    "\n",
    "    def on_list(self, node_list):\n",
    "        listed = False\n",
    "        for n in node_list:\n",
    "            if self.equal(n):\n",
    "                listed = True\n",
    "        return listed\n",
    "\n",
    "    def __str__(self):\n",
    "        return str(self.get_data())"
   ]
  },
  {
   "cell_type": "code",
   "execution_count": 46,
   "metadata": {},
   "outputs": [],
   "source": [
    "#----------Importando las librerias--------#\n",
    "import sys\n",
    "import math\n",
    "sys.setrecursionlimit(9999999)"
   ]
  },
  {
   "cell_type": "code",
   "execution_count": 48,
   "metadata": {},
   "outputs": [],
   "source": [
    "#-----------Creando la funcion para Busqueda por anchura -----------#\n",
    "def bpa(init_node, solution, visited):\n",
    "    visited.append(init_node.get_data())\n",
    "    if init_node.get_data() == solution:\n",
    "        return init_node\n",
    "    else:\n",
    "        # Expandir nodos sucesores (hijos)\n",
    "        node_data = init_node.get_data()\n",
    "        son_nodes = []\n",
    "        \n",
    "        for i in range(0,len(node_data)):\n",
    "            if node_data[i] != \" \":\n",
    "                son_data = node_data.copy()\n",
    "                son_data[i] = \" \"\n",
    "                son_nodes.append( Node( son_data ) )  \n",
    "        init_node.set_son(son_nodes)\n",
    "\n",
    "        for son_node in init_node.get_son():\n",
    "\n",
    "            if not son_node.get_data() in visited:\n",
    "                solutn = bpa(son_node, solution, visited)\n",
    "                if solutn is not None:\n",
    "                    return solutn\n",
    "        return None"
   ]
  },
  {
   "cell_type": "code",
   "execution_count": 49,
   "metadata": {},
   "outputs": [
    {
     "name": "stdout",
     "output_type": "stream",
     "text": [
      "['*', '*', '*', '*', '*', '*', '*', '*', '*']\n",
      "['*', '*', '*', '*', '*', ' ', '*', '*', '*']\n",
      "['*', '*', '*', '*', '*', ' ', ' ', '*', '*']\n"
     ]
    }
   ],
   "source": [
    "#--------- Iniciando el Problema con los valores de inicio y los valores de la solucion a entontrar -------#\n",
    "if __name__ == \"__main__\":\n",
    "    initial_state = [\n",
    "                        \"*\",\"*\",\"*\",\"*\",\"*\",\"*\",\"*\",\"*\",\"*\"\n",
    "                    ]\n",
    "\n",
    "    solution_state = [\n",
    "                        \"*\",\"*\",\"*\",\"*\",\"*\",\" \",\" \",\"*\",\"*\"\n",
    "                    ]\n",
    "\n",
    "\n",
    "    visited_nodes = []\n",
    "    initial_node = Node(initial_state)\n",
    "    \n",
    "    solution_node = bpa(initial_node, solution_state, visited_nodes)\n",
    "\n",
    "    result = []\n",
    "    node = solution_node\n",
    "\n",
    "    while node.get_father() is not None:\n",
    "        result.append(node.get_data())\n",
    "        node = node.get_father()\n",
    "    \n",
    "    result.append(initial_state)\n",
    "    result.reverse()\n",
    "\n",
    "    nodo = 1\n",
    "    for valor in result:\n",
    "        print(valor, end=\"\\n\")\n",
    "        nodo += 1"
   ]
  },
  {
   "cell_type": "code",
   "execution_count": 50,
   "metadata": {},
   "outputs": [],
   "source": [
    "#----------- Creando la Funcion para graficar el resultado ----------#\n",
    "def crearexamen(result):\n",
    "    mapa_examen=[]\n",
    "    filas=16\n",
    "    columnas=28\n",
    "    for fila in range(filas):\n",
    "        fila_mapa=[]\n",
    "        for columna in range(columnas):\n",
    "            \n",
    "            if(fila==0 or columna==0 or fila==15 or columna==27):\n",
    "                fila_mapa.append('#')\n",
    "            else:\n",
    "                i=0\n",
    "                n=result[i]\n",
    "                if(n==\"*\"):\n",
    "                    fila_mapa.append('*')\n",
    "                    i=i+1\n",
    "                else:\n",
    "                    fila_mapa.append(' ')\n",
    "\n",
    "        mapa_examen.append(fila_mapa)\n",
    "    return  mapa_examen"
   ]
  },
  {
   "cell_type": "code",
   "execution_count": 51,
   "metadata": {},
   "outputs": [],
   "source": [
    "#-------------funcion que llama a la funcion de grafico de la solucion--------#\n",
    "def mostrarexamen(examen):\n",
    "    for row in examen:\n",
    "        print(\" \".join(row))"
   ]
  },
  {
   "cell_type": "code",
   "execution_count": 52,
   "metadata": {},
   "outputs": [
    {
     "name": "stdout",
     "output_type": "stream",
     "text": [
      "# # # # # # # # # # # # # # # # # # # # # # # # # # # #\n",
      "#                                                     #\n",
      "#                                                     #\n",
      "#                                                     #\n",
      "#                                                     #\n",
      "#                                                     #\n",
      "#                                                     #\n",
      "#                                                     #\n",
      "#                                                     #\n",
      "#                                                     #\n",
      "#                                                     #\n",
      "#                                                     #\n",
      "#                                                     #\n",
      "#                                                     #\n",
      "#                                                     #\n",
      "# # # # # # # # # # # # # # # # # # # # # # # # # # # #\n"
     ]
    }
   ],
   "source": [
    "#-------- iniciando funciones para graficar ----------#\n",
    "examen=crearexamen(result)\n",
    "mostrarexamen(examen)"
   ]
  }
 ],
 "metadata": {
  "kernelspec": {
   "display_name": "Python 3.9.12 ('base')",
   "language": "python",
   "name": "python3"
  },
  "language_info": {
   "codemirror_mode": {
    "name": "ipython",
    "version": 3
   },
   "file_extension": ".py",
   "mimetype": "text/x-python",
   "name": "python",
   "nbconvert_exporter": "python",
   "pygments_lexer": "ipython3",
   "version": "3.9.12"
  },
  "orig_nbformat": 4,
  "vscode": {
   "interpreter": {
    "hash": "3ae5a986935bf018834bd5c275c5a6b98b447801b0a0e976283c7009c88d42c3"
   }
  }
 },
 "nbformat": 4,
 "nbformat_minor": 2
}
