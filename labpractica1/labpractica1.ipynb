{
 "cells": [
  {
   "cell_type": "code",
   "execution_count": 7,
   "metadata": {},
   "outputs": [],
   "source": [
    "# Practica del Laboratorio\n",
    "# Inteligencia Artificial\n",
    "import random\n",
    "# Funciones del programa:\n",
    "# funcion de la captura de los datos para el laberinto por teclado\n",
    "def datos():\n",
    "    try:\n",
    "        numero_filas = int(input('Introdusca el numero de filas: '))\n",
    "        numero_columnas = int(input('Introdusca el numero de columnas: '))\n",
    "    except:\n",
    "        print(\"los datos solo pueden ser numeros enteros\")\n",
    "        return datos()\n",
    "    if numero_filas<4 and numero_columnas<4:\n",
    "        print(\"los valores minimos para paredes y columnas deben ser 5 o mas\")\n",
    "        return datos()\n",
    "    estructura = int(input('Desea establecer el numero de paredes o espacios libres? \\n 1:paredes \\n 2:espacios\\n'))    \n",
    "    if estructura!=1 and estructura!=2:\n",
    "        estructura = int(input('No existe esa opcion.\\nPor favor elija de nuevo.\\nDesea establecer el numero de paredes o espacios libres? \\n 1:paredes \\n 2:espacios\\n'))\n",
    "\n",
    "    if estructura==1:\n",
    "        eleccion = int(input('Introdusca el numero de paredes: '))\n",
    "    if estructura==2:    \n",
    "        eleccion = int(input('Introdusca el numero de espacios: '))\n",
    "    return [numero_filas,numero_columnas,estructura,eleccion]\n"
   ]
  },
  {
   "cell_type": "code",
   "execution_count": 11,
   "metadata": {},
   "outputs": [
    {
     "data": {
      "text/plain": [
       "[10, 10, 1, 20]"
      ]
     },
     "execution_count": 11,
     "metadata": {},
     "output_type": "execute_result"
    }
   ],
   "source": [
    "datos()"
   ]
  },
  {
   "cell_type": "code",
   "execution_count": 12,
   "metadata": {},
   "outputs": [],
   "source": [
    "def crearlaberinto(numero_filas , numero_columnas,estructura):\n",
    "    mapa_laberinto=[]\n",
    "    for filas in range(0,numero_filas):\n",
    "        fila_laberinto=[]\n",
    "        for columnas in range(0,numero_columnas):\n",
    "            if(estructura==1):\n",
    "                if(filas==0 or columnas==0 or filas==numero_filas-1 or columnas==numero_columnas-1):\n",
    "                    fila_laberinto.append('#')\n",
    "                else:\n",
    "                    fila_laberinto.append(' ')\n",
    "            if(estructura==2):\n",
    "                if(filas==0 or columnas==0 or filas==numero_filas-1 or columnas==numero_columnas-1):\n",
    "                    fila_laberinto.append(' ')\n",
    "                else:\n",
    "                    fila_laberinto.append('#')\n",
    "        mapa_laberinto.append(fila_laberinto)\n",
    "    return  mapa_laberinto"
   ]
  },
  {
   "cell_type": "code",
   "execution_count": 13,
   "metadata": {},
   "outputs": [],
   "source": [
    "def mostrarlaberinto(laberinto):\n",
    "    for row in laberinto:\n",
    "        print(\" \".join(row))"
   ]
  },
  {
   "cell_type": "code",
   "execution_count": 14,
   "metadata": {},
   "outputs": [],
   "source": [
    "def paredes(laberinto,estructura,eleccion):\n",
    "    if(eleccion==0):\n",
    "        return\n",
    "    if(estructura==1):\n",
    "        x,y=[random.randint(1,len(laberinto)-2),random.randint(1,len(laberinto[0])-2)]\n",
    "        if(laberinto[x][y]==\" \"):\n",
    "            if(laberinto[x][y-1]==\" \" or\n",
    "            laberinto[x][y+1]==\" \" or\n",
    "            laberinto[x+1][y]==\" \" or\n",
    "            laberinto[x-1][y]==\" \" ):\n",
    "                laberinto[x][y]=\"#\"\n",
    "                eleccion=eleccion-1\n",
    "        return paredes(laberinto,estructura,eleccion)\n",
    "    if(estructura==2):\n",
    "        x,y=[random.randint(1,len(laberinto)-2),random.randint(1,len(laberinto[0])-2)]\n",
    "        if(laberinto[x][y]==\"#\"):\n",
    "            if(laberinto[x][y-1]==\"#\" or\n",
    "            laberinto[x][y+1]==\"#\" or\n",
    "            laberinto[x+1][y]==\"#\" or\n",
    "            laberinto[x-1][y]==\"#\" ):\n",
    "                laberinto[x][y]=\" \"\n",
    "                eleccion=eleccion-1\n",
    "        return paredes(laberinto,estructura,eleccion)\n"
   ]
  },
  {
   "cell_type": "code",
   "execution_count": 15,
   "metadata": {},
   "outputs": [],
   "source": [
    "def inicioagente( laberinto = None, jugador = None):\n",
    "    x, y = [random.randint( 1, len( laberinto ) - 2 ), random.randint( 1, len( laberinto[ 0 ] ) - 2)]\n",
    "    if( laberinto[x][y] == \" \" ):\n",
    "        laberinto[x][y] = jugador\n",
    "        return [x,y]\n",
    "    else:\n",
    "        return inicioagente(laberinto, jugador)"
   ]
  },
  {
   "cell_type": "code",
   "execution_count": 16,
   "metadata": {},
   "outputs": [],
   "source": [
    "def objetivo( laberinto, jugador, meta ):\n",
    "    x, y = [ random.randint( 1, len( laberinto ) - 2 ), random.randint( 1, len( laberinto[ 0 ] ) - 2)]\n",
    "    if( laberinto[x][y] != \"#\" and laberinto[x][y] != jugador):\n",
    "        laberinto[x][y] = meta\n",
    "        return [x,y]    \n",
    "    else:\n",
    "        return objetivo( laberinto, jugador, meta )"
   ]
  },
  {
   "cell_type": "code",
   "execution_count": 17,
   "metadata": {},
   "outputs": [
    {
     "name": "stdout",
     "output_type": "stream",
     "text": [
      "# # # # # # # # # #\n",
      "# # # #     #     #\n",
      "#   #         # # #\n",
      "# #         O *   #\n",
      "#               # #\n",
      "# # #         # # #\n",
      "# #   #       #   #\n",
      "#           #     #\n",
      "#     #   # #     #\n",
      "# # # # # # # # # #\n"
     ]
    }
   ],
   "source": [
    "numero_filas,numero_columnas,estructura,eleccion=datos()\n",
    "laberinto=crearlaberinto(numero_filas,numero_columnas,estructura)\n",
    "paredes(laberinto,estructura,eleccion)\n",
    "inicioagente(laberinto,\"*\")\n",
    "objetivo(laberinto,\"*\",\"O\")\n",
    "mostrarlaberinto(laberinto)"
   ]
  }
 ],
 "metadata": {
  "kernelspec": {
   "display_name": "Python 3.9.12 ('base')",
   "language": "python",
   "name": "python3"
  },
  "language_info": {
   "codemirror_mode": {
    "name": "ipython",
    "version": 3
   },
   "file_extension": ".py",
   "mimetype": "text/x-python",
   "name": "python",
   "nbconvert_exporter": "python",
   "pygments_lexer": "ipython3",
   "version": "3.9.12"
  },
  "orig_nbformat": 4,
  "vscode": {
   "interpreter": {
    "hash": "3ae5a986935bf018834bd5c275c5a6b98b447801b0a0e976283c7009c88d42c3"
   }
  }
 },
 "nbformat": 4,
 "nbformat_minor": 2
}
